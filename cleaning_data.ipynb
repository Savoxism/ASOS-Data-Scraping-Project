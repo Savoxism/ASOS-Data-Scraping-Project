{
 "cells": [
  {
   "cell_type": "code",
   "execution_count": 1,
   "metadata": {},
   "outputs": [],
   "source": [
    "import json"
   ]
  },
  {
   "cell_type": "code",
   "execution_count": 2,
   "metadata": {},
   "outputs": [
    {
     "name": "stdout",
     "output_type": "stream",
     "text": [
      "Total products loaded: 600\n"
     ]
    }
   ],
   "source": [
    "file_list = [\n",
    "    \"product_json/Hoodies&Sweatshirts/asos_hoodies_sweatshirts_1_100.json\",\n",
    "    \"product_json/Hoodies&Sweatshirts/asos_hoodies_sweatshirts_101_200.json\",\n",
    "    \"product_json/Hoodies&Sweatshirts/asos_hoodies_sweatshirts_201_300.json\",\n",
    "    \"product_json/Hoodies&Sweatshirts/asos_hoodies_sweatshirts_301_400.json\",\n",
    "    \"product_json/Hoodies&Sweatshirts/asos_hoodies_sweatshirts_401_500.json\",\n",
    "    \"product_json/Hoodies&Sweatshirts/asos_hoodies_sweatshirts_501_600.json\",\n",
    "]\n",
    "\n",
    "combined_data = []\n",
    "\n",
    "for file in file_list:\n",
    "    with open(file, 'r') as f:\n",
    "        data = json.load(f)\n",
    "        combined_data.extend(data)\n",
    "        \n",
    "print(f\"Total products loaded: {len(combined_data)}\")"
   ]
  },
  {
   "cell_type": "code",
   "execution_count": 3,
   "metadata": {},
   "outputs": [
    {
     "data": {
      "text/plain": [
       "{'product_id': 'product-207141777',\n",
       " 'product_url': 'https://www.asos.com/asos-design/asos-design-premium-heavyweight-oversized-sweatshirt-400gsm-in-dark-green/prd/207141777#colourWayId-207141778',\n",
       " 'product_name': 'ASOS DESIGN premium heavyweight oversized sweatshirt 400gsm in dark green',\n",
       " 'price': '£30.00',\n",
       " 'description': [\"For 'no plans' plans\",\n",
       "  'Plain design',\n",
       "  'Crew neck',\n",
       "  'Drop shoulders',\n",
       "  'Oversized fit'],\n",
       " 'image_urls': ['https://images.asos-media.com/products/asos-design-premium-heavyweight-oversized-sweatshirt-400gsm-in-dark-green/207141777-1-pinegrove?$n_320w$&wid=317&fit=constrain',\n",
       "  'https://images.asos-media.com/products/asos-design-premium-heavyweight-oversized-sweatshirt-400gsm-in-dark-green/207141777-2?$n_320w$&wid=317&fit=constrain',\n",
       "  'https://images.asos-media.com/products/asos-design-premium-heavyweight-oversized-sweatshirt-400gsm-in-dark-green/207141777-3?$n_320w$&wid=317&fit=constrain',\n",
       "  'https://images.asos-media.com/products/asos-design-premium-heavyweight-oversized-sweatshirt-400gsm-in-dark-green/207141777-4?$n_320w$&wid=317&fit=constrain'],\n",
       " 'category': 'Hoodies & Sweatshirts'}"
      ]
     },
     "execution_count": 3,
     "metadata": {},
     "output_type": "execute_result"
    }
   ],
   "source": [
    "combined_data[0]"
   ]
  },
  {
   "cell_type": "code",
   "execution_count": 6,
   "metadata": {},
   "outputs": [
    {
     "name": "stdout",
     "output_type": "stream",
     "text": [
      "Combined data saved to 'product_json/asos_hoodies_sweatchirts_combined.json'\n"
     ]
    }
   ],
   "source": [
    "# Save combined data to a single file\n",
    "with open(\"product_json/asos_hoodies_sweatchirts_combined.json\", \"w\") as file:\n",
    "    json.dump(combined_data, file, indent=4)\n",
    "\n",
    "print(\"Combined data saved to 'product_json/asos_hoodies_sweatchirts_combined.json'\")"
   ]
  },
  {
   "cell_type": "code",
   "execution_count": 7,
   "metadata": {},
   "outputs": [
    {
     "name": "stdout",
     "output_type": "stream",
     "text": [
      "Total products loaded from combined file: 600\n"
     ]
    }
   ],
   "source": [
    "# Reload the combined JSON file\n",
    "with open(\"product_json/Hoodies&Sweatshirts/asos_hoodies_sweatchirts_combined.json\", \"r\") as file:\n",
    "    data = json.load(file)\n",
    "print(f\"Total products loaded from combined file: {len(data)}\")"
   ]
  },
  {
   "cell_type": "markdown",
   "metadata": {},
   "source": [
    "# Cleaning Data\n"
   ]
  },
  {
   "cell_type": "code",
   "execution_count": 8,
   "metadata": {},
   "outputs": [],
   "source": [
    "# Filter out None entries\n",
    "filtered_data = [item for item in data if item is not None]"
   ]
  },
  {
   "cell_type": "code",
   "execution_count": 9,
   "metadata": {},
   "outputs": [
    {
     "name": "stdout",
     "output_type": "stream",
     "text": [
      "Total unique products after removing duplicates: 576\n"
     ]
    }
   ],
   "source": [
    "# Remove duplicates by keeping only unique 'product_id'\n",
    "unique_data = {item['product_id']: item for item in filtered_data}.values()\n",
    "unique_data = list(unique_data)  # Convert back to a list\n",
    "\n",
    "print(f\"Total unique products after removing duplicates: {len(unique_data)}\")"
   ]
  },
  {
   "cell_type": "code",
   "execution_count": 10,
   "metadata": {},
   "outputs": [
    {
     "name": "stdout",
     "output_type": "stream",
     "text": [
      "Cleaned data saved to 'product_json/Hoodies&Sweatshirts/asos_hoodies_sweatchirts_combined.json'\n",
      "Old file overwritten with cleaned data.\n"
     ]
    }
   ],
   "source": [
    "# Save to a temporary new JSON file\n",
    "new_combined_file = \"product_json/Hoodies&Sweatshirts/asos_hoodies_sweatchirts_combined.json\"\n",
    "with open(new_combined_file, \"w\") as file:\n",
    "    json.dump(unique_data, file, indent=4)\n",
    "\n",
    "print(f\"Cleaned data saved to '{new_combined_file}'\")\n",
    "\n",
    "# Overwrite the old file with the cleaned data\n",
    "import os\n",
    "os.replace(new_combined_file, \"product_json/Hoodies&Sweatshirts/asos_hoodies_sweatchirts_combined.json\")\n",
    "print(\"Old file overwritten with cleaned data.\")"
   ]
  }
 ],
 "metadata": {
  "kernelspec": {
   "display_name": "Python 3",
   "language": "python",
   "name": "python3"
  },
  "language_info": {
   "codemirror_mode": {
    "name": "ipython",
    "version": 3
   },
   "file_extension": ".py",
   "mimetype": "text/x-python",
   "name": "python",
   "nbconvert_exporter": "python",
   "pygments_lexer": "ipython3",
   "version": "3.12.2"
  }
 },
 "nbformat": 4,
 "nbformat_minor": 2
}
