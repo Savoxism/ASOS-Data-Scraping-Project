{
 "cells": [
  {
   "cell_type": "code",
   "execution_count": 1,
   "metadata": {},
   "outputs": [],
   "source": [
    "import json"
   ]
  },
  {
   "cell_type": "code",
   "execution_count": 9,
   "metadata": {},
   "outputs": [
    {
     "name": "stdout",
     "output_type": "stream",
     "text": [
      "Total products loaded: 501\n"
     ]
    }
   ],
   "source": [
    "file_list = [\n",
    "    \"product_json/Jeans/asos_jeans_001_600.json\",\n",
    "]\n",
    "\n",
    "combined_data = []\n",
    "\n",
    "for file in file_list:\n",
    "    with open(file, 'r') as f:\n",
    "        data = json.load(f)\n",
    "        combined_data.extend(data)\n",
    "        \n",
    "print(f\"Total products loaded: {len(combined_data)}\")"
   ]
  },
  {
   "cell_type": "code",
   "execution_count": 10,
   "metadata": {},
   "outputs": [
    {
     "data": {
      "text/plain": [
       "{'product_id': 'product-206769604',\n",
       " 'product_url': 'https://www.asos.com/collusion/collusion-unisex-track-jeans-in-stonewash-stone/prd/206769604#colourWayId-206769605',\n",
       " 'product_name': 'COLLUSION unisex track jeans in stonewash - STONE',\n",
       " 'price': '£27.99',\n",
       " 'description': ['Exclusive to ASOS',\n",
       "  'Relaxed fit',\n",
       "  'Regular rise',\n",
       "  'Belt loops',\n",
       "  'Five pockets',\n",
       "  'Unisex style'],\n",
       " 'image_urls': ['https://images.asos-media.com/products/collusion-unisex-track-jeans-in-stonewash-stone/206769604-1-stonewash?$n_320w$&wid=317&fit=constrain',\n",
       "  'https://images.asos-media.com/products/collusion-unisex-track-jeans-in-stonewash-stone/206769604-2?$n_320w$&wid=317&fit=constrain',\n",
       "  'https://images.asos-media.com/products/collusion-unisex-track-jeans-in-stonewash-stone/206769604-3?$n_320w$&wid=317&fit=constrain',\n",
       "  'https://images.asos-media.com/products/collusion-unisex-track-jeans-in-stonewash-stone/206769604-4?$n_320w$&wid=317&fit=constrain'],\n",
       " 'category': 'Jeans'}"
      ]
     },
     "execution_count": 10,
     "metadata": {},
     "output_type": "execute_result"
    }
   ],
   "source": [
    "combined_data[0]"
   ]
  },
  {
   "cell_type": "code",
   "execution_count": 11,
   "metadata": {},
   "outputs": [
    {
     "name": "stdout",
     "output_type": "stream",
     "text": [
      "Combined data saved!\n"
     ]
    }
   ],
   "source": [
    "# Save combined data to a single file\n",
    "with open(\"product_json/asos_jeans_001_600.json\", \"w\") as file:\n",
    "    json.dump(combined_data, file, indent=4)\n",
    "\n",
    "print(\"Combined data saved!\")"
   ]
  },
  {
   "cell_type": "code",
   "execution_count": 12,
   "metadata": {},
   "outputs": [
    {
     "name": "stdout",
     "output_type": "stream",
     "text": [
      "Total products loaded from combined file: 501\n"
     ]
    }
   ],
   "source": [
    "# Reload the combined JSON file\n",
    "with open(\"product_json/asos_jeans_001_600.json\", \"r\") as file:\n",
    "    data = json.load(file)\n",
    "print(f\"Total products loaded from combined file: {len(data)}\")"
   ]
  },
  {
   "cell_type": "markdown",
   "metadata": {},
   "source": [
    "# Cleaning Data\n"
   ]
  },
  {
   "cell_type": "code",
   "execution_count": 13,
   "metadata": {},
   "outputs": [],
   "source": [
    "# Filter out None entries\n",
    "filtered_data = [item for item in data if item is not None]"
   ]
  },
  {
   "cell_type": "code",
   "execution_count": 14,
   "metadata": {},
   "outputs": [
    {
     "name": "stdout",
     "output_type": "stream",
     "text": [
      "Total unique products after removing duplicates: 501\n"
     ]
    }
   ],
   "source": [
    "# Remove duplicates by keeping only unique 'product_id'\n",
    "unique_data = {item['product_id']: item for item in filtered_data}.values()\n",
    "unique_data = list(unique_data)  # Convert back to a list\n",
    "\n",
    "print(f\"Total unique products after removing duplicates: {len(unique_data)}\")"
   ]
  },
  {
   "cell_type": "code",
   "execution_count": 15,
   "metadata": {},
   "outputs": [
    {
     "name": "stdout",
     "output_type": "stream",
     "text": [
      "Cleaned data saved to 'product_json/asos_jeans_001_600.json'\n",
      "Old file overwritten with cleaned data.\n"
     ]
    }
   ],
   "source": [
    "# Save to a temporary new JSON file\n",
    "new_combined_file = \"product_json/asos_jeans_001_600.json\"\n",
    "with open(new_combined_file, \"w\") as file:\n",
    "    json.dump(unique_data, file, indent=4)\n",
    "\n",
    "print(f\"Cleaned data saved to '{new_combined_file}'\")\n",
    "\n",
    "# Overwrite the old file with the cleaned data\n",
    "import os\n",
    "os.replace(new_combined_file, \"product_json/asos_jeans_001_600.json\")\n",
    "print(\"Old file overwritten with cleaned data.\")"
   ]
  },
  {
   "cell_type": "code",
   "execution_count": null,
   "metadata": {},
   "outputs": [],
   "source": []
  }
 ],
 "metadata": {
  "kernelspec": {
   "display_name": "Python 3",
   "language": "python",
   "name": "python3"
  },
  "language_info": {
   "codemirror_mode": {
    "name": "ipython",
    "version": 3
   },
   "file_extension": ".py",
   "mimetype": "text/x-python",
   "name": "python",
   "nbconvert_exporter": "python",
   "pygments_lexer": "ipython3",
   "version": "3.12.3"
  }
 },
 "nbformat": 4,
 "nbformat_minor": 2
}
